{
 "cells": [
  {
   "cell_type": "markdown",
   "id": "12bae738-9f2f-475a-af28-2dfb3b2a5c25",
   "metadata": {},
   "source": [
    "# Benchmarking Foundation Models Notebook \n",
    "\n",
    "Authors:\n",
    "- Helio Halperin (heliohalperin@gmail.com)\n",
    "- Simon Lee (simonlee711@g.ucla.edu)\n",
    "\n",
    "2024"
   ]
  },
  {
   "cell_type": "code",
   "execution_count": null,
   "id": "c9de6d2e-ccc9-4e78-867e-ed9dc3298ac2",
   "metadata": {
    "tags": []
   },
   "outputs": [],
   "source": [
    "!pip install \"sagemaker>=2.140.0\" \"transformers==4.26.1\" \"datasets[s3]==2.10.1\" --upgrade\n",
    "!pip install git+https://github.com/huggingface/transformers.git\n",
    "\n",
    "!pip install transformers datasets[s3] sagemaker --upgrade\n",
    "!pip install scikit-learn\n",
    "!pip install accelerate==0.21.0\n",
    "!pip install fastprogress\n",
    "!pip install lightgbm"
   ]
  },
  {
   "cell_type": "code",
   "execution_count": 3,
   "id": "1817336b-3be0-46fd-b6e9-cebd056ae0d2",
   "metadata": {
    "tags": []
   },
   "outputs": [
    {
     "name": "stdout",
     "output_type": "stream",
     "text": [
      "/root/antibiotics-fm-benchmark\n"
     ]
    }
   ],
   "source": [
    "!pwd"
   ]
  },
  {
   "cell_type": "code",
   "execution_count": 4,
   "id": "55b31d49-7675-4343-9ef0-433386bcfc86",
   "metadata": {
    "tags": []
   },
   "outputs": [
    {
     "name": "stderr",
     "output_type": "stream",
     "text": [
      "/opt/conda/lib/python3.9/site-packages/tqdm/auto.py:21: TqdmWarning: IProgress not found. Please update jupyter and ipywidgets. See https://ipywidgets.readthedocs.io/en/stable/user_install.html\n",
      "  from .autonotebook import tqdm as notebook_tqdm\n"
     ]
    },
    {
     "name": "stdout",
     "output_type": "stream",
     "text": [
      "sagemaker.config INFO - Not applying SDK defaults from location: /etc/xdg/sagemaker/config.yaml\n",
      "sagemaker.config INFO - Not applying SDK defaults from location: /root/.config/sagemaker/config.yaml\n"
     ]
    }
   ],
   "source": [
    "# Basic imports\n",
    "import numpy as np\n",
    "import pandas as pd\n",
    "import json\n",
    "import pickle\n",
    "import torch\n",
    "import torch.nn as nn\n",
    "\n",
    "# AWS imports\n",
    "import boto3\n",
    "from sagemaker import get_execution_role\n",
    "\n",
    "# I/O imports\n",
    "from io import StringIO\n",
    "\n",
    "# Progress and visualization imports\n",
    "from tqdm.auto import tqdm\n",
    "from fastprogress.fastprogress import master_bar, progress_bar\n",
    "import matplotlib.pyplot as plt\n",
    "from sklearn.model_selection import train_test_split\n",
    "\n",
    "# Sklearn metrics imports\n",
    "from sklearn.metrics import roc_curve, precision_recall_curve\n",
    "from sklearn.metrics import roc_auc_score, average_precision_score, f1_score\n",
    "\n",
    "# Transformers imports\n",
    "from transformers import (AutoModel, AutoModelForSequenceClassification, AutoTokenizer, AutoConfig, \n",
    "    DataCollatorWithPadding, TrainingArguments, Trainer, TextClassificationPipeline, \n",
    "    AdamW, get_scheduler\n",
    ")\n",
    "from datasets import load_dataset, Dataset, DatasetDict, concatenate_datasets, load_metric\n",
    "\n",
    "# PyTorch data handling\n",
    "from torch.utils.data import DataLoader\n",
    "\n",
    "from scripts.train_test_split import custom_train_test_split\n",
    "from scripts.encoder import encode_texts\n",
    "from scripts.train_test import evaluate_antibiotics_with_confidence_intervals, print_results\n",
    "from scripts.plot import plot_roc_curves, plot_auprc_curves, calculate_confidence_interval"
   ]
  },
  {
   "cell_type": "markdown",
   "id": "054a4cc9-e48e-4559-ae1f-b3fca374fb74",
   "metadata": {},
   "source": [
    "# read in data"
   ]
  },
  {
   "cell_type": "code",
   "execution_count": 5,
   "id": "37804760-64a2-46c4-b52f-b3ec6dca0073",
   "metadata": {
    "tags": []
   },
   "outputs": [
    {
     "data": {
      "text/html": [
       "<div>\n",
       "<style scoped>\n",
       "    .dataframe tbody tr th:only-of-type {\n",
       "        vertical-align: middle;\n",
       "    }\n",
       "\n",
       "    .dataframe tbody tr th {\n",
       "        vertical-align: top;\n",
       "    }\n",
       "\n",
       "    .dataframe thead th {\n",
       "        text-align: right;\n",
       "    }\n",
       "</style>\n",
       "<table border=\"1\" class=\"dataframe\">\n",
       "  <thead>\n",
       "    <tr style=\"text-align: right;\">\n",
       "      <th></th>\n",
       "      <th>subject_id</th>\n",
       "      <th>stay_id</th>\n",
       "      <th>hadm_id</th>\n",
       "      <th>arrival</th>\n",
       "      <th>triage</th>\n",
       "      <th>medrecon</th>\n",
       "      <th>vitals</th>\n",
       "      <th>codes</th>\n",
       "      <th>pyxis</th>\n",
       "      <th>patient_paragraph</th>\n",
       "      <th>...</th>\n",
       "      <th>DAPTOMYCIN</th>\n",
       "      <th>ERYTHROMYCIN</th>\n",
       "      <th>GENTAMICIN</th>\n",
       "      <th>LEVOFLOXACIN</th>\n",
       "      <th>NITROFURANTOIN</th>\n",
       "      <th>OXACILLIN</th>\n",
       "      <th>RIFAMPIN</th>\n",
       "      <th>TETRACYCLINE</th>\n",
       "      <th>TRIMETHOPRIM/SULFA</th>\n",
       "      <th>VANCOMYCIN</th>\n",
       "    </tr>\n",
       "  </thead>\n",
       "  <tbody>\n",
       "    <tr>\n",
       "      <th>0</th>\n",
       "      <td>10002443</td>\n",
       "      <td>33425241</td>\n",
       "      <td>21329021</td>\n",
       "      <td>Patient 10002443, a 53 year old white male, ar...</td>\n",
       "      <td>At triage: temperature was not recorded, pulse...</td>\n",
       "      <td>The patient was previously taking the followin...</td>\n",
       "      <td>The patient had the following vitals: At 2183-...</td>\n",
       "      <td>The patient received the following diagnostic ...</td>\n",
       "      <td>The patient received the following medications...</td>\n",
       "      <td>Patient 10002443, a 53 year old white male, ar...</td>\n",
       "      <td>...</td>\n",
       "      <td>0.0</td>\n",
       "      <td>1.0</td>\n",
       "      <td>1.0</td>\n",
       "      <td>1.0</td>\n",
       "      <td>0.0</td>\n",
       "      <td>1.0</td>\n",
       "      <td>0.0</td>\n",
       "      <td>1.0</td>\n",
       "      <td>0.0</td>\n",
       "      <td>1.0</td>\n",
       "    </tr>\n",
       "    <tr>\n",
       "      <th>1</th>\n",
       "      <td>10005858</td>\n",
       "      <td>39055405</td>\n",
       "      <td>29352282</td>\n",
       "      <td>Patient 10005858, a 62 year old white female, ...</td>\n",
       "      <td>At triage: temperature was 102.7, pulse was 93...</td>\n",
       "      <td>The patient was previously taking the followin...</td>\n",
       "      <td>The patient had the following vitals: At 2172-...</td>\n",
       "      <td>The patient received the following diagnostic ...</td>\n",
       "      <td>The patient received the following medications...</td>\n",
       "      <td>Patient 10005858, a 62 year old white female, ...</td>\n",
       "      <td>...</td>\n",
       "      <td>0.0</td>\n",
       "      <td>0.0</td>\n",
       "      <td>1.0</td>\n",
       "      <td>0.0</td>\n",
       "      <td>0.0</td>\n",
       "      <td>0.0</td>\n",
       "      <td>1.0</td>\n",
       "      <td>1.0</td>\n",
       "      <td>1.0</td>\n",
       "      <td>1.0</td>\n",
       "    </tr>\n",
       "    <tr>\n",
       "      <th>2</th>\n",
       "      <td>10014078</td>\n",
       "      <td>38676365</td>\n",
       "      <td>25809882</td>\n",
       "      <td>Patient 10014078, a 60 year old unable to obta...</td>\n",
       "      <td>At triage: temperature was not recorded, pulse...</td>\n",
       "      <td>The patient did not receive any medications re...</td>\n",
       "      <td>The patient had no vitals recorded.</td>\n",
       "      <td>The patient received the following diagnostic ...</td>\n",
       "      <td>The patient received the following medications...</td>\n",
       "      <td>Patient 10014078, a 60 year old unable to obta...</td>\n",
       "      <td>...</td>\n",
       "      <td>0.0</td>\n",
       "      <td>1.0</td>\n",
       "      <td>1.0</td>\n",
       "      <td>1.0</td>\n",
       "      <td>0.0</td>\n",
       "      <td>1.0</td>\n",
       "      <td>0.0</td>\n",
       "      <td>1.0</td>\n",
       "      <td>1.0</td>\n",
       "      <td>0.0</td>\n",
       "    </tr>\n",
       "    <tr>\n",
       "      <th>3</th>\n",
       "      <td>10014729</td>\n",
       "      <td>37887480</td>\n",
       "      <td>23300884</td>\n",
       "      <td>Patient 10014729, a 21 year old white - other ...</td>\n",
       "      <td>At triage: temperature was 99.1, pulse was 90....</td>\n",
       "      <td>The patient was previously taking the followin...</td>\n",
       "      <td>The patient had the following vitals: At 2125-...</td>\n",
       "      <td>The patient received the following diagnostic ...</td>\n",
       "      <td>The patient received the following medications...</td>\n",
       "      <td>Patient 10014729, a 21 year old white - other ...</td>\n",
       "      <td>...</td>\n",
       "      <td>0.0</td>\n",
       "      <td>1.0</td>\n",
       "      <td>1.0</td>\n",
       "      <td>0.0</td>\n",
       "      <td>0.0</td>\n",
       "      <td>0.0</td>\n",
       "      <td>1.0</td>\n",
       "      <td>1.0</td>\n",
       "      <td>1.0</td>\n",
       "      <td>1.0</td>\n",
       "    </tr>\n",
       "    <tr>\n",
       "      <th>4</th>\n",
       "      <td>10014729</td>\n",
       "      <td>37887480</td>\n",
       "      <td>23300884</td>\n",
       "      <td>Patient 10014729, a 21 year old white - other ...</td>\n",
       "      <td>At triage: temperature was 99.1, pulse was 90....</td>\n",
       "      <td>The patient was previously taking the followin...</td>\n",
       "      <td>The patient had the following vitals: At 2125-...</td>\n",
       "      <td>The patient received the following diagnostic ...</td>\n",
       "      <td>The patient received the following medications...</td>\n",
       "      <td>Patient 10014729, a 21 year old white - other ...</td>\n",
       "      <td>...</td>\n",
       "      <td>0.0</td>\n",
       "      <td>1.0</td>\n",
       "      <td>1.0</td>\n",
       "      <td>1.0</td>\n",
       "      <td>0.0</td>\n",
       "      <td>0.0</td>\n",
       "      <td>1.0</td>\n",
       "      <td>1.0</td>\n",
       "      <td>1.0</td>\n",
       "      <td>1.0</td>\n",
       "    </tr>\n",
       "    <tr>\n",
       "      <th>...</th>\n",
       "      <td>...</td>\n",
       "      <td>...</td>\n",
       "      <td>...</td>\n",
       "      <td>...</td>\n",
       "      <td>...</td>\n",
       "      <td>...</td>\n",
       "      <td>...</td>\n",
       "      <td>...</td>\n",
       "      <td>...</td>\n",
       "      <td>...</td>\n",
       "      <td>...</td>\n",
       "      <td>...</td>\n",
       "      <td>...</td>\n",
       "      <td>...</td>\n",
       "      <td>...</td>\n",
       "      <td>...</td>\n",
       "      <td>...</td>\n",
       "      <td>...</td>\n",
       "      <td>...</td>\n",
       "      <td>...</td>\n",
       "      <td>...</td>\n",
       "    </tr>\n",
       "    <tr>\n",
       "      <th>5977</th>\n",
       "      <td>19989126</td>\n",
       "      <td>35420737</td>\n",
       "      <td>22853928</td>\n",
       "      <td>Patient 19989126, a 45 year old asian female, ...</td>\n",
       "      <td>At triage: temperature was not recorded, pulse...</td>\n",
       "      <td>The patient did not receive any medications re...</td>\n",
       "      <td>The patient had no vitals recorded.</td>\n",
       "      <td>The patient received the following diagnostic ...</td>\n",
       "      <td>The patient received the following medications...</td>\n",
       "      <td>Patient 19989126, a 45 year old asian female, ...</td>\n",
       "      <td>...</td>\n",
       "      <td>0.0</td>\n",
       "      <td>0.0</td>\n",
       "      <td>1.0</td>\n",
       "      <td>0.0</td>\n",
       "      <td>0.0</td>\n",
       "      <td>0.0</td>\n",
       "      <td>1.0</td>\n",
       "      <td>0.0</td>\n",
       "      <td>0.0</td>\n",
       "      <td>1.0</td>\n",
       "    </tr>\n",
       "    <tr>\n",
       "      <th>5978</th>\n",
       "      <td>19990821</td>\n",
       "      <td>35896332</td>\n",
       "      <td>27777812</td>\n",
       "      <td>Patient 19990821, a 70 year old unknown male, ...</td>\n",
       "      <td>At triage: temperature was not recorded, pulse...</td>\n",
       "      <td>The patient was previously taking the followin...</td>\n",
       "      <td>The patient had the following vitals: At 2143-...</td>\n",
       "      <td>The patient has no diagnostic codes recorded.</td>\n",
       "      <td>The patient received the following medications...</td>\n",
       "      <td>Patient 19990821, a 70 year old unknown male, ...</td>\n",
       "      <td>...</td>\n",
       "      <td>0.0</td>\n",
       "      <td>0.0</td>\n",
       "      <td>1.0</td>\n",
       "      <td>1.0</td>\n",
       "      <td>0.0</td>\n",
       "      <td>1.0</td>\n",
       "      <td>0.0</td>\n",
       "      <td>1.0</td>\n",
       "      <td>1.0</td>\n",
       "      <td>0.0</td>\n",
       "    </tr>\n",
       "    <tr>\n",
       "      <th>5979</th>\n",
       "      <td>19991805</td>\n",
       "      <td>34001852</td>\n",
       "      <td>23646288</td>\n",
       "      <td>Patient 19991805, a 80 year old white female, ...</td>\n",
       "      <td>At triage: temperature was 97.9, pulse was 67....</td>\n",
       "      <td>The patient was previously taking the followin...</td>\n",
       "      <td>The patient had the following vitals: At 2143-...</td>\n",
       "      <td>The patient received the following diagnostic ...</td>\n",
       "      <td>The patient received the following medications...</td>\n",
       "      <td>Patient 19991805, a 80 year old white female, ...</td>\n",
       "      <td>...</td>\n",
       "      <td>0.0</td>\n",
       "      <td>0.0</td>\n",
       "      <td>1.0</td>\n",
       "      <td>0.0</td>\n",
       "      <td>0.0</td>\n",
       "      <td>0.0</td>\n",
       "      <td>1.0</td>\n",
       "      <td>1.0</td>\n",
       "      <td>1.0</td>\n",
       "      <td>1.0</td>\n",
       "    </tr>\n",
       "    <tr>\n",
       "      <th>5980</th>\n",
       "      <td>19994772</td>\n",
       "      <td>37554330</td>\n",
       "      <td>29199248</td>\n",
       "      <td>Patient 19994772, a 54 year old white female, ...</td>\n",
       "      <td>At triage: temperature was 96.7, pulse was 79....</td>\n",
       "      <td>The patient was previously taking the followin...</td>\n",
       "      <td>The patient had the following vitals: At 2181-...</td>\n",
       "      <td>The patient received the following diagnostic ...</td>\n",
       "      <td>The patient received the following medications...</td>\n",
       "      <td>Patient 19994772, a 54 year old white female, ...</td>\n",
       "      <td>...</td>\n",
       "      <td>0.0</td>\n",
       "      <td>0.0</td>\n",
       "      <td>1.0</td>\n",
       "      <td>0.0</td>\n",
       "      <td>0.0</td>\n",
       "      <td>0.0</td>\n",
       "      <td>1.0</td>\n",
       "      <td>0.0</td>\n",
       "      <td>0.0</td>\n",
       "      <td>1.0</td>\n",
       "    </tr>\n",
       "    <tr>\n",
       "      <th>5981</th>\n",
       "      <td>19994772</td>\n",
       "      <td>37554330</td>\n",
       "      <td>29199248</td>\n",
       "      <td>Patient 19994772, a 54 year old white female, ...</td>\n",
       "      <td>At triage: temperature was 96.7, pulse was 79....</td>\n",
       "      <td>The patient was previously taking the followin...</td>\n",
       "      <td>The patient had the following vitals: At 2181-...</td>\n",
       "      <td>The patient received the following diagnostic ...</td>\n",
       "      <td>The patient received the following medications...</td>\n",
       "      <td>Patient 19994772, a 54 year old white female, ...</td>\n",
       "      <td>...</td>\n",
       "      <td>0.0</td>\n",
       "      <td>0.0</td>\n",
       "      <td>1.0</td>\n",
       "      <td>1.0</td>\n",
       "      <td>0.0</td>\n",
       "      <td>1.0</td>\n",
       "      <td>0.0</td>\n",
       "      <td>0.0</td>\n",
       "      <td>0.0</td>\n",
       "      <td>1.0</td>\n",
       "    </tr>\n",
       "  </tbody>\n",
       "</table>\n",
       "<p>5982 rows × 21 columns</p>\n",
       "</div>"
      ],
      "text/plain": [
       "      subject_id   stay_id   hadm_id  \\\n",
       "0       10002443  33425241  21329021   \n",
       "1       10005858  39055405  29352282   \n",
       "2       10014078  38676365  25809882   \n",
       "3       10014729  37887480  23300884   \n",
       "4       10014729  37887480  23300884   \n",
       "...          ...       ...       ...   \n",
       "5977    19989126  35420737  22853928   \n",
       "5978    19990821  35896332  27777812   \n",
       "5979    19991805  34001852  23646288   \n",
       "5980    19994772  37554330  29199248   \n",
       "5981    19994772  37554330  29199248   \n",
       "\n",
       "                                                arrival  \\\n",
       "0     Patient 10002443, a 53 year old white male, ar...   \n",
       "1     Patient 10005858, a 62 year old white female, ...   \n",
       "2     Patient 10014078, a 60 year old unable to obta...   \n",
       "3     Patient 10014729, a 21 year old white - other ...   \n",
       "4     Patient 10014729, a 21 year old white - other ...   \n",
       "...                                                 ...   \n",
       "5977  Patient 19989126, a 45 year old asian female, ...   \n",
       "5978  Patient 19990821, a 70 year old unknown male, ...   \n",
       "5979  Patient 19991805, a 80 year old white female, ...   \n",
       "5980  Patient 19994772, a 54 year old white female, ...   \n",
       "5981  Patient 19994772, a 54 year old white female, ...   \n",
       "\n",
       "                                                 triage  \\\n",
       "0     At triage: temperature was not recorded, pulse...   \n",
       "1     At triage: temperature was 102.7, pulse was 93...   \n",
       "2     At triage: temperature was not recorded, pulse...   \n",
       "3     At triage: temperature was 99.1, pulse was 90....   \n",
       "4     At triage: temperature was 99.1, pulse was 90....   \n",
       "...                                                 ...   \n",
       "5977  At triage: temperature was not recorded, pulse...   \n",
       "5978  At triage: temperature was not recorded, pulse...   \n",
       "5979  At triage: temperature was 97.9, pulse was 67....   \n",
       "5980  At triage: temperature was 96.7, pulse was 79....   \n",
       "5981  At triage: temperature was 96.7, pulse was 79....   \n",
       "\n",
       "                                               medrecon  \\\n",
       "0     The patient was previously taking the followin...   \n",
       "1     The patient was previously taking the followin...   \n",
       "2     The patient did not receive any medications re...   \n",
       "3     The patient was previously taking the followin...   \n",
       "4     The patient was previously taking the followin...   \n",
       "...                                                 ...   \n",
       "5977  The patient did not receive any medications re...   \n",
       "5978  The patient was previously taking the followin...   \n",
       "5979  The patient was previously taking the followin...   \n",
       "5980  The patient was previously taking the followin...   \n",
       "5981  The patient was previously taking the followin...   \n",
       "\n",
       "                                                 vitals  \\\n",
       "0     The patient had the following vitals: At 2183-...   \n",
       "1     The patient had the following vitals: At 2172-...   \n",
       "2                   The patient had no vitals recorded.   \n",
       "3     The patient had the following vitals: At 2125-...   \n",
       "4     The patient had the following vitals: At 2125-...   \n",
       "...                                                 ...   \n",
       "5977                The patient had no vitals recorded.   \n",
       "5978  The patient had the following vitals: At 2143-...   \n",
       "5979  The patient had the following vitals: At 2143-...   \n",
       "5980  The patient had the following vitals: At 2181-...   \n",
       "5981  The patient had the following vitals: At 2181-...   \n",
       "\n",
       "                                                  codes  \\\n",
       "0     The patient received the following diagnostic ...   \n",
       "1     The patient received the following diagnostic ...   \n",
       "2     The patient received the following diagnostic ...   \n",
       "3     The patient received the following diagnostic ...   \n",
       "4     The patient received the following diagnostic ...   \n",
       "...                                                 ...   \n",
       "5977  The patient received the following diagnostic ...   \n",
       "5978      The patient has no diagnostic codes recorded.   \n",
       "5979  The patient received the following diagnostic ...   \n",
       "5980  The patient received the following diagnostic ...   \n",
       "5981  The patient received the following diagnostic ...   \n",
       "\n",
       "                                                  pyxis  \\\n",
       "0     The patient received the following medications...   \n",
       "1     The patient received the following medications...   \n",
       "2     The patient received the following medications...   \n",
       "3     The patient received the following medications...   \n",
       "4     The patient received the following medications...   \n",
       "...                                                 ...   \n",
       "5977  The patient received the following medications...   \n",
       "5978  The patient received the following medications...   \n",
       "5979  The patient received the following medications...   \n",
       "5980  The patient received the following medications...   \n",
       "5981  The patient received the following medications...   \n",
       "\n",
       "                                      patient_paragraph  ...  DAPTOMYCIN  \\\n",
       "0     Patient 10002443, a 53 year old white male, ar...  ...         0.0   \n",
       "1     Patient 10005858, a 62 year old white female, ...  ...         0.0   \n",
       "2     Patient 10014078, a 60 year old unable to obta...  ...         0.0   \n",
       "3     Patient 10014729, a 21 year old white - other ...  ...         0.0   \n",
       "4     Patient 10014729, a 21 year old white - other ...  ...         0.0   \n",
       "...                                                 ...  ...         ...   \n",
       "5977  Patient 19989126, a 45 year old asian female, ...  ...         0.0   \n",
       "5978  Patient 19990821, a 70 year old unknown male, ...  ...         0.0   \n",
       "5979  Patient 19991805, a 80 year old white female, ...  ...         0.0   \n",
       "5980  Patient 19994772, a 54 year old white female, ...  ...         0.0   \n",
       "5981  Patient 19994772, a 54 year old white female, ...  ...         0.0   \n",
       "\n",
       "      ERYTHROMYCIN  GENTAMICIN  LEVOFLOXACIN  NITROFURANTOIN  OXACILLIN  \\\n",
       "0              1.0         1.0           1.0             0.0        1.0   \n",
       "1              0.0         1.0           0.0             0.0        0.0   \n",
       "2              1.0         1.0           1.0             0.0        1.0   \n",
       "3              1.0         1.0           0.0             0.0        0.0   \n",
       "4              1.0         1.0           1.0             0.0        0.0   \n",
       "...            ...         ...           ...             ...        ...   \n",
       "5977           0.0         1.0           0.0             0.0        0.0   \n",
       "5978           0.0         1.0           1.0             0.0        1.0   \n",
       "5979           0.0         1.0           0.0             0.0        0.0   \n",
       "5980           0.0         1.0           0.0             0.0        0.0   \n",
       "5981           0.0         1.0           1.0             0.0        1.0   \n",
       "\n",
       "      RIFAMPIN  TETRACYCLINE  TRIMETHOPRIM/SULFA  VANCOMYCIN  \n",
       "0          0.0           1.0                 0.0         1.0  \n",
       "1          1.0           1.0                 1.0         1.0  \n",
       "2          0.0           1.0                 1.0         0.0  \n",
       "3          1.0           1.0                 1.0         1.0  \n",
       "4          1.0           1.0                 1.0         1.0  \n",
       "...        ...           ...                 ...         ...  \n",
       "5977       1.0           0.0                 0.0         1.0  \n",
       "5978       0.0           1.0                 1.0         0.0  \n",
       "5979       1.0           1.0                 1.0         1.0  \n",
       "5980       1.0           0.0                 0.0         1.0  \n",
       "5981       0.0           0.0                 0.0         1.0  \n",
       "\n",
       "[5982 rows x 21 columns]"
      ]
     },
     "metadata": {},
     "output_type": "display_data"
    }
   ],
   "source": [
    "data = pd.read_csv(\"./data/antibiotics_labels.csv\")\n",
    "display(data)"
   ]
  },
  {
   "cell_type": "code",
   "execution_count": 6,
   "id": "e78b4831-b015-4b5d-aa1f-8f56b8a2c560",
   "metadata": {
    "tags": []
   },
   "outputs": [],
   "source": [
    "# List of antibiotics we are interested in\n",
    "############################################\n",
    "## We may or may not study NITROFURANTOIN ## \n",
    "## Because only 6% of patients were       ##\n",
    "## prescribed it                          ##\n",
    "############################################\n",
    "\n",
    "antibiotics = ['CLINDAMYCIN', 'ERYTHROMYCIN', 'GENTAMICIN', 'LEVOFLOXACIN', \n",
    "               'OXACILLIN', 'TETRACYCLINE', 'TRIMETHOPRIM/SULFA', \n",
    "               'VANCOMYCIN']"
   ]
  },
  {
   "cell_type": "code",
   "execution_count": 7,
   "id": "0df42786-847a-4ae2-a222-941d245a2f32",
   "metadata": {
    "tags": []
   },
   "outputs": [
    {
     "name": "stdout",
     "output_type": "stream",
     "text": [
      "TRAIN: 4844 TEST: 599\n"
     ]
    }
   ],
   "source": [
    "# # Split data into 80% and 20$ cuts\n",
    "train_val, test = train_test_split(data, test_size=0.1, random_state=42)\n",
    "train, val = train_test_split(train_val, test_size=0.1, random_state=42)\n",
    "\n",
    "print('TRAIN:', len(train), 'TEST:', len(test))"
   ]
  },
  {
   "cell_type": "markdown",
   "id": "aa5892c3-8eb8-48b5-82f6-cfaf97e95230",
   "metadata": {},
   "source": [
    "# DistilBERT (baseline)"
   ]
  },
  {
   "cell_type": "code",
   "execution_count": 17,
   "id": "9d2d596c-6ac6-488a-8450-4a77812012f4",
   "metadata": {
    "tags": []
   },
   "outputs": [],
   "source": [
    "# Generate Embeddings for each set of data\n",
    "## We can plug in any models found on the huggingface platform\n",
    "##\n",
    "X_train = encode_texts('distilbert-base-uncased', train['patient_paragraph'].tolist())\n",
    "X_test = encode_texts('distilbert-base-uncased', test['patient_paragraph'].tolist())"
   ]
  },
  {
   "cell_type": "code",
   "execution_count": null,
   "id": "4570afc1-20b0-4305-875e-184880f328a5",
   "metadata": {
    "tags": []
   },
   "outputs": [],
   "source": [
    "\n",
    "## Evaluate \n",
    "distilbert_results = evaluate_antibiotics_with_confidence_intervals(X_train, X_test, train, test, antibiotics, n_bootstraps=1000)\n",
    "\n",
    "\n",
    "\n",
    "# pickle files. Saving variables into pickle files. Save all your results in these special files. "
   ]
  },
  {
   "cell_type": "code",
   "execution_count": 8,
   "id": "9c06d645-077c-4c3d-a005-bb3454edbe5b",
   "metadata": {
    "tags": []
   },
   "outputs": [],
   "source": [
    "import pickle\n",
    "def save_pickle(results, filename):\n",
    "    \"\"\"\n",
    "    Creates a new pickle file\n",
    "\n",
    "    results: the name of the variable\n",
    "    filename: the name of the file\n",
    "    \"\"\"\n",
    "    filename = f\"{filename}.pickle\"\n",
    "\n",
    "    file_path=f'./results/{filename}'\n",
    "    with open(file_path, 'wb') as file:\n",
    "        pickle.dump(results, file)\n",
    "\n",
    "    print(f\"The variable {filename} has been saved successfully.\")\n",
    "\n",
    "def load_pickle(filename):\n",
    "    \"\"\"\n",
    "    Loads in the pickle file\n",
    "\n",
    "    filename: the name of the file\n",
    "    \"\"\"\n",
    "    file_path=f'./results/{filename}.pickle'\n",
    "    loaded_data = None\n",
    "    with open(file_path, 'rb') as file:\n",
    "        loaded_data = pickle.load(file)\n",
    "\n",
    "    print(f\"The variable {filename} has been loaded successfully.\")\n",
    "\n",
    "    return loaded_data\n"
   ]
  },
  {
   "cell_type": "code",
   "execution_count": null,
   "id": "3a1dc4a5",
   "metadata": {
    "tags": []
   },
   "outputs": [],
   "source": [
    "distilbert_results = load_pickle('DistilBERT')"
   ]
  },
  {
   "cell_type": "markdown",
   "id": "5f53076c-a939-49e3-93eb-fadf415b6c2c",
   "metadata": {},
   "source": [
    "# Biomegatron"
   ]
  },
  {
   "cell_type": "code",
   "execution_count": null,
   "id": "b0f54e2b-87bb-4755-9915-07075bd85e8e",
   "metadata": {
    "tags": []
   },
   "outputs": [],
   "source": [
    "X_train = encode_texts('EMBO/BioMegatron345mUncased', train['patient_paragraph'].tolist())\n",
    "X_test = encode_texts('EMBO/BioMegatron345mUncased', test['patient_paragraph'].tolist())\n",
    "## Make sure to rename\n",
    "biomegatron_results = evaluate_antibiotics_with_confidence_intervals(X_train, X_test, train, test, antibiotics, n_bootstraps=1000)\n",
    "print_results(biomegatron_results)\n",
    "\n",
    "save_pickle(biomegatron_results, \"biomegatron\")\n",
    "biomegatron_results = load_pickle('biomegatron')\n",
    "\n",
    "# Took too long, should use AWS"
   ]
  },
  {
   "cell_type": "markdown",
   "id": "96589187",
   "metadata": {
    "tags": []
   },
   "source": [
    "# Medbert"
   ]
  },
  {
   "cell_type": "code",
   "execution_count": null,
   "id": "cd150efd",
   "metadata": {},
   "outputs": [],
   "source": [
    "X_train = encode_texts(\"Charangan/MedBERT\", train['patient_paragraph'].tolist())\n",
    "X_test = encode_texts(\"Charangan/MedBERT\", test['patient_paragraph'].tolist())\n",
    "## Make sure to rename\n",
    "medbert_results = evaluate_antibiotics_with_confidence_intervals(X_train, X_test, train, test, antibiotics, n_bootstraps=1000)\n",
    "print_results(medbert_results)\n",
    "\n",
    "save_pickle(medbert_results, \"medBERT\")\n",
    "medbert_results = load_pickle('medBERT')"
   ]
  },
  {
   "cell_type": "markdown",
   "id": "edaa3443",
   "metadata": {},
   "source": [
    "Bluebert"
   ]
  },
  {
   "cell_type": "code",
   "execution_count": null,
   "id": "98aea621",
   "metadata": {
    "tags": []
   },
   "outputs": [],
   "source": [
    "X_train = encode_texts(\"bionlp/bluebert_pubmed_mimic_uncased_L-12_H-768_A-12\", train['patient_paragraph'].tolist())\n",
    "X_test = encode_texts(\"bionlp/bluebert_pubmed_mimic_uncased_L-12_H-768_A-12\", test['patient_paragraph'].tolist())\n",
    "## Make sure to rename\n",
    "bluebert_results = evaluate_antibiotics_with_confidence_intervals(X_train, X_test, train, test, antibiotics, n_bootstraps=1000)\n",
    "print_results(bluebert_results)\n",
    "\n",
    "save_pickle(bluebert_results, \"BlueBERT\")\n",
    "bluebert_results = load_pickle('BlueBERT')"
   ]
  },
  {
   "cell_type": "markdown",
   "id": "dc451a24-863d-494d-8c3a-f3f6a0c43553",
   "metadata": {},
   "source": [
    "Biobert"
   ]
  },
  {
   "cell_type": "code",
   "execution_count": null,
   "id": "0b7f97f4",
   "metadata": {},
   "outputs": [],
   "source": [
    "X_train = encode_texts(\"pritamdeka/BioBert-PubMed200kRCT\", train['patient_paragraph'].tolist())\n",
    "X_test = encode_texts(\"pritamdeka/BioBert-PubMed200kRCT\", test['patient_paragraph'].tolist())\n",
    "## Make sure to rename\n",
    "biobert_results = evaluate_antibiotics_with_confidence_intervals(X_train, X_test, train, test, antibiotics, n_bootstraps=1000)\n",
    "print_results(biobert_results)\n",
    "\n",
    "save_pickle(biobert_results, \"BioBERT\")\n",
    "biobert_results = load_pickle('BioBERT')"
   ]
  },
  {
   "cell_type": "code",
   "execution_count": null,
   "id": "31989eae-8601-4f1f-9dc6-8479584e6b46",
   "metadata": {},
   "outputs": [],
   "source": [
    "PubMedBERT"
   ]
  },
  {
   "cell_type": "code",
   "execution_count": 19,
   "id": "a0139b16-0bdd-4461-8b0f-261b25eee91d",
   "metadata": {
    "tags": []
   },
   "outputs": [
    {
     "name": "stderr",
     "output_type": "stream",
     "text": [
      "Iterating through Antibiotics Progress:   0%|          | 0/8 [00:00<?, ?it/s]"
     ]
    },
    {
     "name": "stdout",
     "output_type": "stream",
     "text": [
      "[LightGBM] [Info] Number of positive: 2636, number of negative: 2208\n",
      "[LightGBM] [Info] Auto-choosing col-wise multi-threading, the overhead of testing was 0.031607 seconds.\n",
      "You can set `force_col_wise=true` to remove the overhead.\n",
      "[LightGBM] [Info] Total Bins 195840\n",
      "[LightGBM] [Info] Number of data points in the train set: 4844, number of used features: 768\n",
      "[LightGBM] [Info] [binary:BoostFromScore]: pavg=0.544178 -> initscore=0.177175\n",
      "[LightGBM] [Info] Start training from score 0.177175\n"
     ]
    },
    {
     "name": "stderr",
     "output_type": "stream",
     "text": [
      "/root/antibiotics-fm-benchmark/scripts/train_test.py:100: RuntimeWarning: invalid value encountered in divide\n",
      "  precision, recall, thresholds = precision_recall_curve(y_test, y_test_proba)\n",
      "Iterating through Antibiotics Progress:  12%|█▎        | 1/8 [00:46<05:23, 46.22s/it]"
     ]
    },
    {
     "name": "stdout",
     "output_type": "stream",
     "text": [
      "[LightGBM] [Info] Number of positive: 1812, number of negative: 3032\n",
      "[LightGBM] [Info] Auto-choosing col-wise multi-threading, the overhead of testing was 0.031693 seconds.\n",
      "You can set `force_col_wise=true` to remove the overhead.\n",
      "[LightGBM] [Info] Total Bins 195840\n",
      "[LightGBM] [Info] Number of data points in the train set: 4844, number of used features: 768\n",
      "[LightGBM] [Info] [binary:BoostFromScore]: pavg=0.374071 -> initscore=-0.514791\n",
      "[LightGBM] [Info] Start training from score -0.514791\n"
     ]
    },
    {
     "name": "stderr",
     "output_type": "stream",
     "text": [
      "Iterating through Antibiotics Progress:  25%|██▌       | 2/8 [01:32<04:39, 46.52s/it]"
     ]
    },
    {
     "name": "stdout",
     "output_type": "stream",
     "text": [
      "[LightGBM] [Info] Number of positive: 4593, number of negative: 251\n",
      "[LightGBM] [Info] Auto-choosing col-wise multi-threading, the overhead of testing was 0.031453 seconds.\n",
      "You can set `force_col_wise=true` to remove the overhead.\n",
      "[LightGBM] [Info] Total Bins 195840\n",
      "[LightGBM] [Info] Number of data points in the train set: 4844, number of used features: 768\n",
      "[LightGBM] [Info] [binary:BoostFromScore]: pavg=0.948183 -> initscore=2.906836\n",
      "[LightGBM] [Info] Start training from score 2.906836\n",
      "[LightGBM] [Warning] No further splits with positive gain, best gain: -inf\n"
     ]
    },
    {
     "name": "stderr",
     "output_type": "stream",
     "text": [
      "Iterating through Antibiotics Progress:  38%|███▊      | 3/8 [02:25<04:05, 49.17s/it]"
     ]
    },
    {
     "name": "stdout",
     "output_type": "stream",
     "text": [
      "[LightGBM] [Info] Number of positive: 2898, number of negative: 1946\n",
      "[LightGBM] [Info] Auto-choosing col-wise multi-threading, the overhead of testing was 0.031157 seconds.\n",
      "You can set `force_col_wise=true` to remove the overhead.\n",
      "[LightGBM] [Info] Total Bins 195840\n",
      "[LightGBM] [Info] Number of data points in the train set: 4844, number of used features: 768\n",
      "[LightGBM] [Info] [binary:BoostFromScore]: pavg=0.598266 -> initscore=0.398245\n",
      "[LightGBM] [Info] Start training from score 0.398245\n"
     ]
    },
    {
     "name": "stderr",
     "output_type": "stream",
     "text": [
      "Iterating through Antibiotics Progress:  50%|█████     | 4/8 [03:12<03:13, 48.47s/it]"
     ]
    },
    {
     "name": "stdout",
     "output_type": "stream",
     "text": [
      "[LightGBM] [Info] Number of positive: 2719, number of negative: 2125\n",
      "[LightGBM] [Info] Auto-choosing col-wise multi-threading, the overhead of testing was 0.031146 seconds.\n",
      "You can set `force_col_wise=true` to remove the overhead.\n",
      "[LightGBM] [Info] Total Bins 195840\n",
      "[LightGBM] [Info] Number of data points in the train set: 4844, number of used features: 768\n",
      "[LightGBM] [Info] [binary:BoostFromScore]: pavg=0.561313 -> initscore=0.246492\n",
      "[LightGBM] [Info] Start training from score 0.246492\n"
     ]
    },
    {
     "name": "stderr",
     "output_type": "stream",
     "text": [
      "Iterating through Antibiotics Progress:  62%|██████▎   | 5/8 [03:59<02:23, 47.76s/it]"
     ]
    },
    {
     "name": "stdout",
     "output_type": "stream",
     "text": [
      "[LightGBM] [Info] Number of positive: 3755, number of negative: 1089\n",
      "[LightGBM] [Info] Auto-choosing col-wise multi-threading, the overhead of testing was 0.032476 seconds.\n",
      "You can set `force_col_wise=true` to remove the overhead.\n",
      "[LightGBM] [Info] Total Bins 195840\n",
      "[LightGBM] [Info] Number of data points in the train set: 4844, number of used features: 768\n",
      "[LightGBM] [Info] [binary:BoostFromScore]: pavg=0.775186 -> initscore=1.237828\n",
      "[LightGBM] [Info] Start training from score 1.237828\n"
     ]
    },
    {
     "name": "stderr",
     "output_type": "stream",
     "text": [
      "Iterating through Antibiotics Progress:  75%|███████▌  | 6/8 [04:47<01:35, 47.94s/it]"
     ]
    },
    {
     "name": "stdout",
     "output_type": "stream",
     "text": [
      "[LightGBM] [Info] Number of positive: 3678, number of negative: 1166\n",
      "[LightGBM] [Info] Auto-choosing col-wise multi-threading, the overhead of testing was 0.031155 seconds.\n",
      "You can set `force_col_wise=true` to remove the overhead.\n",
      "[LightGBM] [Info] Total Bins 195840\n",
      "[LightGBM] [Info] Number of data points in the train set: 4844, number of used features: 768\n",
      "[LightGBM] [Info] [binary:BoostFromScore]: pavg=0.759290 -> initscore=1.148790\n",
      "[LightGBM] [Info] Start training from score 1.148790\n"
     ]
    },
    {
     "name": "stderr",
     "output_type": "stream",
     "text": [
      "/root/antibiotics-fm-benchmark/scripts/train_test.py:100: RuntimeWarning: invalid value encountered in divide\n",
      "  precision, recall, thresholds = precision_recall_curve(y_test, y_test_proba)\n",
      "Iterating through Antibiotics Progress:  88%|████████▊ | 7/8 [05:35<00:48, 48.06s/it]"
     ]
    },
    {
     "name": "stdout",
     "output_type": "stream",
     "text": [
      "[LightGBM] [Info] Number of positive: 2559, number of negative: 2285\n",
      "[LightGBM] [Info] Auto-choosing col-wise multi-threading, the overhead of testing was 0.031578 seconds.\n",
      "You can set `force_col_wise=true` to remove the overhead.\n",
      "[LightGBM] [Info] Total Bins 195840\n",
      "[LightGBM] [Info] Number of data points in the train set: 4844, number of used features: 768\n",
      "[LightGBM] [Info] [binary:BoostFromScore]: pavg=0.528282 -> initscore=0.113251\n",
      "[LightGBM] [Info] Start training from score 0.113251\n"
     ]
    },
    {
     "name": "stderr",
     "output_type": "stream",
     "text": [
      "Iterating through Antibiotics Progress: 100%|██████████| 8/8 [06:22<00:00, 47.76s/it]"
     ]
    },
    {
     "name": "stdout",
     "output_type": "stream",
     "text": [
      "Results for CLINDAMYCIN:\n",
      "  Test - F1: 0.7805 +/- 0.0311, MCC: 0.3751, ROC-AUC: 0.7380 +/- 0.0393, PRC-AUC: 0.7731 +/- 0.0520\n",
      "Results for ERYTHROMYCIN:\n",
      "  Test - F1: 0.6603 +/- 0.0417, MCC: 0.3686, ROC-AUC: 0.7697 +/- 0.0384, PRC-AUC: 0.7165 +/- 0.0553\n",
      "Results for GENTAMICIN:\n",
      "  Test - F1: 0.9787 +/- 0.0083, MCC: 0.3927, ROC-AUC: 0.6183 +/- 0.1178, PRC-AUC: 0.9622 +/- 0.0200\n",
      "Results for LEVOFLOXACIN:\n",
      "  Test - F1: 0.8286 +/- 0.0288, MCC: 0.4987, ROC-AUC: 0.8162 +/- 0.0352, PRC-AUC: 0.8622 +/- 0.0352\n",
      "Results for OXACILLIN:\n",
      "  Test - F1: 0.7962 +/- 0.0291, MCC: 0.4540, ROC-AUC: 0.7859 +/- 0.0360, PRC-AUC: 0.8149 +/- 0.0415\n",
      "Results for TETRACYCLINE:\n",
      "  Test - F1: 0.9052 +/- 0.0185, MCC: 0.3779, ROC-AUC: 0.6681 +/- 0.0571, PRC-AUC: 0.8674 +/- 0.0365\n",
      "Results for TRIMETHOPRIM/SULFA:\n",
      "  Test - F1: 0.9110 +/- 0.0181, MCC: 0.4326, ROC-AUC: 0.6948 +/- 0.0561, PRC-AUC: 0.8721 +/- 0.0381\n",
      "Results for VANCOMYCIN:\n",
      "  Test - F1: 0.7292 +/- 0.0331, MCC: 0.3364, ROC-AUC: 0.7721 +/- 0.0359, PRC-AUC: 0.7974 +/- 0.0409\n",
      "The variable PubMedBERT.pickle has been saved successfully.\n",
      "The variable PubMedBERT has been loaded successfully.\n"
     ]
    },
    {
     "name": "stderr",
     "output_type": "stream",
     "text": [
      "\n"
     ]
    }
   ],
   "source": [
    "X_train = encode_texts(\"NeuML/pubmedbert-base-embeddings\", train['patient_paragraph'].tolist())\n",
    "X_test = encode_texts(\"NeuML/pubmedbert-base-embeddings\", test['patient_paragraph'].tolist())\n",
    "## Make sure to rename\n",
    "pubmedbert_results = evaluate_antibiotics_with_confidence_intervals(X_train, X_test, train, test, antibiotics, n_bootstraps=1000)\n",
    "print_results(pubmedbert_results)\n",
    "\n",
    "save_pickle(pubmedbert_results, \"PubMedBERT\")\n",
    "pubmedbert_results = load_pickle('PubMedBERT')"
   ]
  },
  {
   "cell_type": "code",
   "execution_count": null,
   "id": "406312fe-e7eb-4b06-bd25-2ae7530381cc",
   "metadata": {},
   "outputs": [],
   "source": [
    "Gatotron"
   ]
  },
  {
   "cell_type": "code",
   "execution_count": null,
   "id": "af29eb1e-6c6b-41e5-bfc5-b2b096ec9f9f",
   "metadata": {},
   "outputs": [],
   "source": [
    "X_train = encode_texts(\"UFNLP/gatortron-large\", train['patient_paragraph'].tolist())\n",
    "X_test = encode_texts(\"UFNLP/gatortron-large\", test['patient_paragraph'].tolist())\n",
    "## Make sure to rename\n",
    "gatotron_results = evaluate_antibiotics_with_confidence_intervals(X_train, X_test, train, test, antibiotics, n_bootstraps=1000)\n",
    "print_results(gatotron_results)\n",
    "\n",
    "save_pickle(gatotron_results, \"Gatotron\")\n",
    "gatotron_results = load_pickle('Gatotron')"
   ]
  },
  {
   "cell_type": "code",
   "execution_count": null,
   "id": "d0a831e0-4f27-47ba-a488-77bf03f1fe15",
   "metadata": {},
   "outputs": [],
   "source": [
    "BiomedRoBERTa"
   ]
  },
  {
   "cell_type": "code",
   "execution_count": null,
   "id": "7cda1c75-5f12-40f8-9545-ff636fbd29fb",
   "metadata": {},
   "outputs": [],
   "source": [
    "X_train = encode_texts(\"allenai/biomed_roberta_base\", train['patient_paragraph'].tolist())\n",
    "X_test = encode_texts(\"allenai/biomed_roberta_base\", test['patient_paragraph'].tolist())\n",
    "## Make sure to rename\n",
    "biomedroberta_results = evaluate_antibiotics_with_confidence_intervals(X_train, X_test, train, test, antibiotics, n_bootstraps=1000)\n",
    "print_results(biomedroberta_results)\n",
    "\n",
    "save_pickle(biomedroberta_results, \"BiomedRoBERTa\")\n",
    "biomedroberta_results = load_pickle('BiomedRoBERTa')"
   ]
  },
  {
   "cell_type": "code",
   "execution_count": 20,
   "id": "d805c56a-6ae3-4a3a-9430-97aa9f145d8f",
   "metadata": {
    "tags": []
   },
   "outputs": [
    {
     "name": "stdout",
     "output_type": "stream",
     "text": [
      "The variable BioBERT has been loaded successfully.\n",
      "The variable medBERT has been loaded successfully.\n",
      "The variable DistilBERT has been loaded successfully.\n",
      "The variable biomegatron has been loaded successfully.\n",
      "The variable BlueBERT has been loaded successfully.\n",
      "The variable PubMedBERT has been loaded successfully.\n"
     ]
    }
   ],
   "source": [
    "biobert_results = load_pickle('BioBERT')\n",
    "medbert_results = load_pickle('medBERT')\n",
    "distilbert_results = load_pickle('DistilBERT')\n",
    "biomegatron_results = load_pickle('biomegatron')\n",
    "bluebert_results = load_pickle('BlueBERT')\n",
    "pubmedbert_results = load_pickle('PubMedBERT')\n",
    "#gatotron_results = load_pickle('Gatotron')\n",
    "#gatotron_results = load_pickle('BiomedRoBERTa')"
   ]
  },
  {
   "cell_type": "code",
   "execution_count": 21,
   "id": "7dd865d6-f75f-4063-b165-17391fe4c80a",
   "metadata": {
    "tags": []
   },
   "outputs": [
    {
     "ename": "NameError",
     "evalue": "name 'PubMedBERT_results' is not defined",
     "output_type": "error",
     "traceback": [
      "\u001b[0;31m---------------------------------------------------------------------------\u001b[0m",
      "\u001b[0;31mNameError\u001b[0m                                 Traceback (most recent call last)",
      "Cell \u001b[0;32mIn[21], line 19\u001b[0m\n\u001b[1;32m      1\u001b[0m model_colors \u001b[38;5;241m=\u001b[39m {\n\u001b[1;32m      2\u001b[0m     \u001b[38;5;124m\"\u001b[39m\u001b[38;5;124mDistilBERT\u001b[39m\u001b[38;5;124m\"\u001b[39m: \u001b[38;5;124m'\u001b[39m\u001b[38;5;124m#d62728\u001b[39m\u001b[38;5;124m'\u001b[39m,\n\u001b[1;32m      3\u001b[0m     \u001b[38;5;124m\"\u001b[39m\u001b[38;5;124mBioMegatron\u001b[39m\u001b[38;5;124m\"\u001b[39m: \u001b[38;5;124m'\u001b[39m\u001b[38;5;124m#9467bd\u001b[39m\u001b[38;5;124m'\u001b[39m,\n\u001b[0;32m   (...)\u001b[0m\n\u001b[1;32m      9\u001b[0m     \u001b[38;5;66;03m#\"BiomedRoBERTa\": \"#674ea7\"\u001b[39;00m\n\u001b[1;32m     10\u001b[0m }\n\u001b[1;32m     12\u001b[0m \u001b[38;5;66;03m# Dictionaries with their corresponding model names\u001b[39;00m\n\u001b[1;32m     13\u001b[0m dictionaries \u001b[38;5;241m=\u001b[39m [\n\u001b[1;32m     14\u001b[0m     (distilbert_results, \u001b[38;5;124m\"\u001b[39m\u001b[38;5;124mDistilBERT\u001b[39m\u001b[38;5;124m\"\u001b[39m),\n\u001b[1;32m     15\u001b[0m     (biomegatron_results, \u001b[38;5;124m\"\u001b[39m\u001b[38;5;124mBioMegatron\u001b[39m\u001b[38;5;124m\"\u001b[39m),\n\u001b[1;32m     16\u001b[0m     (medbert_results, \u001b[38;5;124m\"\u001b[39m\u001b[38;5;124mMedbert\u001b[39m\u001b[38;5;124m\"\u001b[39m),\n\u001b[1;32m     17\u001b[0m     (biobert_results, \u001b[38;5;124m\"\u001b[39m\u001b[38;5;124mBioBERT\u001b[39m\u001b[38;5;124m\"\u001b[39m),\n\u001b[1;32m     18\u001b[0m     (bluebert_results, \u001b[38;5;124m\"\u001b[39m\u001b[38;5;124mBlueBERT\u001b[39m\u001b[38;5;124m\"\u001b[39m),\n\u001b[0;32m---> 19\u001b[0m     (\u001b[43mPubMedBERT_results\u001b[49m, \u001b[38;5;124m\"\u001b[39m\u001b[38;5;124mPubMedBERT\u001b[39m\u001b[38;5;124m\"\u001b[39m),\n\u001b[1;32m     20\u001b[0m     \u001b[38;5;66;03m#(gatotron_results, \"Gatotron\"),\u001b[39;00m\n\u001b[1;32m     21\u001b[0m     \u001b[38;5;66;03m#(gatotron_results, \"BiomedRoBERTa\")\u001b[39;00m\n\u001b[1;32m     22\u001b[0m \n\u001b[1;32m     23\u001b[0m ]\n\u001b[1;32m     24\u001b[0m plot_roc_curves(antibiotics, dictionaries, model_colors)\n\u001b[1;32m     25\u001b[0m plot_auprc_curves(antibiotics, dictionaries, model_colors)\n",
      "\u001b[0;31mNameError\u001b[0m: name 'PubMedBERT_results' is not defined"
     ]
    }
   ],
   "source": [
    "model_colors = {\n",
    "    \"DistilBERT\": '#d62728',\n",
    "    \"BioMegatron\": '#9467bd',\n",
    "    \"Medbert\": \"#d3ff0d\",\n",
    "    \"BioBERT\": \"#370e19\",\n",
    "    \"BlueBERT\": \"#3d85c6\",\n",
    "    \"PubMedBERT\": \"#38761d\",\n",
    "    #\"Gatotron\": \"#c90076\",\n",
    "    #\"BiomedRoBERTa\": \"#674ea7\"\n",
    "}\n",
    "\n",
    "# Dictionaries with their corresponding model names\n",
    "dictionaries = [\n",
    "    (distilbert_results, \"DistilBERT\"),\n",
    "    (biomegatron_results, \"BioMegatron\"),\n",
    "    (medbert_results, \"Medbert\"),\n",
    "    (biobert_results, \"BioBERT\"),\n",
    "    (bluebert_results, \"BlueBERT\"),\n",
    "    (PubMedBERT_results, \"PubMedBERT\"),\n",
    "    #(gatotron_results, \"Gatotron\"),\n",
    "    #(gatotron_results, \"BiomedRoBERTa\")\n",
    "\n",
    "]\n",
    "plot_roc_curves(antibiotics, dictionaries, model_colors)\n",
    "plot_auprc_curves(antibiotics, dictionaries, model_colors)"
   ]
  },
  {
   "cell_type": "code",
   "execution_count": null,
   "id": "67d1f585",
   "metadata": {},
   "outputs": [],
   "source": []
  }
 ],
 "metadata": {
  "availableInstances": [
   {
    "_defaultOrder": 0,
    "_isFastLaunch": true,
    "category": "General purpose",
    "gpuNum": 0,
    "hideHardwareSpecs": false,
    "memoryGiB": 4,
    "name": "ml.t3.medium",
    "vcpuNum": 2
   },
   {
    "_defaultOrder": 1,
    "_isFastLaunch": false,
    "category": "General purpose",
    "gpuNum": 0,
    "hideHardwareSpecs": false,
    "memoryGiB": 8,
    "name": "ml.t3.large",
    "vcpuNum": 2
   },
   {
    "_defaultOrder": 2,
    "_isFastLaunch": false,
    "category": "General purpose",
    "gpuNum": 0,
    "hideHardwareSpecs": false,
    "memoryGiB": 16,
    "name": "ml.t3.xlarge",
    "vcpuNum": 4
   },
   {
    "_defaultOrder": 3,
    "_isFastLaunch": false,
    "category": "General purpose",
    "gpuNum": 0,
    "hideHardwareSpecs": false,
    "memoryGiB": 32,
    "name": "ml.t3.2xlarge",
    "vcpuNum": 8
   },
   {
    "_defaultOrder": 4,
    "_isFastLaunch": true,
    "category": "General purpose",
    "gpuNum": 0,
    "hideHardwareSpecs": false,
    "memoryGiB": 8,
    "name": "ml.m5.large",
    "vcpuNum": 2
   },
   {
    "_defaultOrder": 5,
    "_isFastLaunch": false,
    "category": "General purpose",
    "gpuNum": 0,
    "hideHardwareSpecs": false,
    "memoryGiB": 16,
    "name": "ml.m5.xlarge",
    "vcpuNum": 4
   },
   {
    "_defaultOrder": 6,
    "_isFastLaunch": false,
    "category": "General purpose",
    "gpuNum": 0,
    "hideHardwareSpecs": false,
    "memoryGiB": 32,
    "name": "ml.m5.2xlarge",
    "vcpuNum": 8
   },
   {
    "_defaultOrder": 7,
    "_isFastLaunch": false,
    "category": "General purpose",
    "gpuNum": 0,
    "hideHardwareSpecs": false,
    "memoryGiB": 64,
    "name": "ml.m5.4xlarge",
    "vcpuNum": 16
   },
   {
    "_defaultOrder": 8,
    "_isFastLaunch": false,
    "category": "General purpose",
    "gpuNum": 0,
    "hideHardwareSpecs": false,
    "memoryGiB": 128,
    "name": "ml.m5.8xlarge",
    "vcpuNum": 32
   },
   {
    "_defaultOrder": 9,
    "_isFastLaunch": false,
    "category": "General purpose",
    "gpuNum": 0,
    "hideHardwareSpecs": false,
    "memoryGiB": 192,
    "name": "ml.m5.12xlarge",
    "vcpuNum": 48
   },
   {
    "_defaultOrder": 10,
    "_isFastLaunch": false,
    "category": "General purpose",
    "gpuNum": 0,
    "hideHardwareSpecs": false,
    "memoryGiB": 256,
    "name": "ml.m5.16xlarge",
    "vcpuNum": 64
   },
   {
    "_defaultOrder": 11,
    "_isFastLaunch": false,
    "category": "General purpose",
    "gpuNum": 0,
    "hideHardwareSpecs": false,
    "memoryGiB": 384,
    "name": "ml.m5.24xlarge",
    "vcpuNum": 96
   },
   {
    "_defaultOrder": 12,
    "_isFastLaunch": false,
    "category": "General purpose",
    "gpuNum": 0,
    "hideHardwareSpecs": false,
    "memoryGiB": 8,
    "name": "ml.m5d.large",
    "vcpuNum": 2
   },
   {
    "_defaultOrder": 13,
    "_isFastLaunch": false,
    "category": "General purpose",
    "gpuNum": 0,
    "hideHardwareSpecs": false,
    "memoryGiB": 16,
    "name": "ml.m5d.xlarge",
    "vcpuNum": 4
   },
   {
    "_defaultOrder": 14,
    "_isFastLaunch": false,
    "category": "General purpose",
    "gpuNum": 0,
    "hideHardwareSpecs": false,
    "memoryGiB": 32,
    "name": "ml.m5d.2xlarge",
    "vcpuNum": 8
   },
   {
    "_defaultOrder": 15,
    "_isFastLaunch": false,
    "category": "General purpose",
    "gpuNum": 0,
    "hideHardwareSpecs": false,
    "memoryGiB": 64,
    "name": "ml.m5d.4xlarge",
    "vcpuNum": 16
   },
   {
    "_defaultOrder": 16,
    "_isFastLaunch": false,
    "category": "General purpose",
    "gpuNum": 0,
    "hideHardwareSpecs": false,
    "memoryGiB": 128,
    "name": "ml.m5d.8xlarge",
    "vcpuNum": 32
   },
   {
    "_defaultOrder": 17,
    "_isFastLaunch": false,
    "category": "General purpose",
    "gpuNum": 0,
    "hideHardwareSpecs": false,
    "memoryGiB": 192,
    "name": "ml.m5d.12xlarge",
    "vcpuNum": 48
   },
   {
    "_defaultOrder": 18,
    "_isFastLaunch": false,
    "category": "General purpose",
    "gpuNum": 0,
    "hideHardwareSpecs": false,
    "memoryGiB": 256,
    "name": "ml.m5d.16xlarge",
    "vcpuNum": 64
   },
   {
    "_defaultOrder": 19,
    "_isFastLaunch": false,
    "category": "General purpose",
    "gpuNum": 0,
    "hideHardwareSpecs": false,
    "memoryGiB": 384,
    "name": "ml.m5d.24xlarge",
    "vcpuNum": 96
   },
   {
    "_defaultOrder": 20,
    "_isFastLaunch": false,
    "category": "General purpose",
    "gpuNum": 0,
    "hideHardwareSpecs": true,
    "memoryGiB": 0,
    "name": "ml.geospatial.interactive",
    "supportedImageNames": [
     "sagemaker-geospatial-v1-0"
    ],
    "vcpuNum": 0
   },
   {
    "_defaultOrder": 21,
    "_isFastLaunch": true,
    "category": "Compute optimized",
    "gpuNum": 0,
    "hideHardwareSpecs": false,
    "memoryGiB": 4,
    "name": "ml.c5.large",
    "vcpuNum": 2
   },
   {
    "_defaultOrder": 22,
    "_isFastLaunch": false,
    "category": "Compute optimized",
    "gpuNum": 0,
    "hideHardwareSpecs": false,
    "memoryGiB": 8,
    "name": "ml.c5.xlarge",
    "vcpuNum": 4
   },
   {
    "_defaultOrder": 23,
    "_isFastLaunch": false,
    "category": "Compute optimized",
    "gpuNum": 0,
    "hideHardwareSpecs": false,
    "memoryGiB": 16,
    "name": "ml.c5.2xlarge",
    "vcpuNum": 8
   },
   {
    "_defaultOrder": 24,
    "_isFastLaunch": false,
    "category": "Compute optimized",
    "gpuNum": 0,
    "hideHardwareSpecs": false,
    "memoryGiB": 32,
    "name": "ml.c5.4xlarge",
    "vcpuNum": 16
   },
   {
    "_defaultOrder": 25,
    "_isFastLaunch": false,
    "category": "Compute optimized",
    "gpuNum": 0,
    "hideHardwareSpecs": false,
    "memoryGiB": 72,
    "name": "ml.c5.9xlarge",
    "vcpuNum": 36
   },
   {
    "_defaultOrder": 26,
    "_isFastLaunch": false,
    "category": "Compute optimized",
    "gpuNum": 0,
    "hideHardwareSpecs": false,
    "memoryGiB": 96,
    "name": "ml.c5.12xlarge",
    "vcpuNum": 48
   },
   {
    "_defaultOrder": 27,
    "_isFastLaunch": false,
    "category": "Compute optimized",
    "gpuNum": 0,
    "hideHardwareSpecs": false,
    "memoryGiB": 144,
    "name": "ml.c5.18xlarge",
    "vcpuNum": 72
   },
   {
    "_defaultOrder": 28,
    "_isFastLaunch": false,
    "category": "Compute optimized",
    "gpuNum": 0,
    "hideHardwareSpecs": false,
    "memoryGiB": 192,
    "name": "ml.c5.24xlarge",
    "vcpuNum": 96
   },
   {
    "_defaultOrder": 29,
    "_isFastLaunch": true,
    "category": "Accelerated computing",
    "gpuNum": 1,
    "hideHardwareSpecs": false,
    "memoryGiB": 16,
    "name": "ml.g4dn.xlarge",
    "vcpuNum": 4
   },
   {
    "_defaultOrder": 30,
    "_isFastLaunch": false,
    "category": "Accelerated computing",
    "gpuNum": 1,
    "hideHardwareSpecs": false,
    "memoryGiB": 32,
    "name": "ml.g4dn.2xlarge",
    "vcpuNum": 8
   },
   {
    "_defaultOrder": 31,
    "_isFastLaunch": false,
    "category": "Accelerated computing",
    "gpuNum": 1,
    "hideHardwareSpecs": false,
    "memoryGiB": 64,
    "name": "ml.g4dn.4xlarge",
    "vcpuNum": 16
   },
   {
    "_defaultOrder": 32,
    "_isFastLaunch": false,
    "category": "Accelerated computing",
    "gpuNum": 1,
    "hideHardwareSpecs": false,
    "memoryGiB": 128,
    "name": "ml.g4dn.8xlarge",
    "vcpuNum": 32
   },
   {
    "_defaultOrder": 33,
    "_isFastLaunch": false,
    "category": "Accelerated computing",
    "gpuNum": 4,
    "hideHardwareSpecs": false,
    "memoryGiB": 192,
    "name": "ml.g4dn.12xlarge",
    "vcpuNum": 48
   },
   {
    "_defaultOrder": 34,
    "_isFastLaunch": false,
    "category": "Accelerated computing",
    "gpuNum": 1,
    "hideHardwareSpecs": false,
    "memoryGiB": 256,
    "name": "ml.g4dn.16xlarge",
    "vcpuNum": 64
   },
   {
    "_defaultOrder": 35,
    "_isFastLaunch": false,
    "category": "Accelerated computing",
    "gpuNum": 1,
    "hideHardwareSpecs": false,
    "memoryGiB": 61,
    "name": "ml.p3.2xlarge",
    "vcpuNum": 8
   },
   {
    "_defaultOrder": 36,
    "_isFastLaunch": false,
    "category": "Accelerated computing",
    "gpuNum": 4,
    "hideHardwareSpecs": false,
    "memoryGiB": 244,
    "name": "ml.p3.8xlarge",
    "vcpuNum": 32
   },
   {
    "_defaultOrder": 37,
    "_isFastLaunch": false,
    "category": "Accelerated computing",
    "gpuNum": 8,
    "hideHardwareSpecs": false,
    "memoryGiB": 488,
    "name": "ml.p3.16xlarge",
    "vcpuNum": 64
   },
   {
    "_defaultOrder": 38,
    "_isFastLaunch": false,
    "category": "Accelerated computing",
    "gpuNum": 8,
    "hideHardwareSpecs": false,
    "memoryGiB": 768,
    "name": "ml.p3dn.24xlarge",
    "vcpuNum": 96
   },
   {
    "_defaultOrder": 39,
    "_isFastLaunch": false,
    "category": "Memory Optimized",
    "gpuNum": 0,
    "hideHardwareSpecs": false,
    "memoryGiB": 16,
    "name": "ml.r5.large",
    "vcpuNum": 2
   },
   {
    "_defaultOrder": 40,
    "_isFastLaunch": false,
    "category": "Memory Optimized",
    "gpuNum": 0,
    "hideHardwareSpecs": false,
    "memoryGiB": 32,
    "name": "ml.r5.xlarge",
    "vcpuNum": 4
   },
   {
    "_defaultOrder": 41,
    "_isFastLaunch": false,
    "category": "Memory Optimized",
    "gpuNum": 0,
    "hideHardwareSpecs": false,
    "memoryGiB": 64,
    "name": "ml.r5.2xlarge",
    "vcpuNum": 8
   },
   {
    "_defaultOrder": 42,
    "_isFastLaunch": false,
    "category": "Memory Optimized",
    "gpuNum": 0,
    "hideHardwareSpecs": false,
    "memoryGiB": 128,
    "name": "ml.r5.4xlarge",
    "vcpuNum": 16
   },
   {
    "_defaultOrder": 43,
    "_isFastLaunch": false,
    "category": "Memory Optimized",
    "gpuNum": 0,
    "hideHardwareSpecs": false,
    "memoryGiB": 256,
    "name": "ml.r5.8xlarge",
    "vcpuNum": 32
   },
   {
    "_defaultOrder": 44,
    "_isFastLaunch": false,
    "category": "Memory Optimized",
    "gpuNum": 0,
    "hideHardwareSpecs": false,
    "memoryGiB": 384,
    "name": "ml.r5.12xlarge",
    "vcpuNum": 48
   },
   {
    "_defaultOrder": 45,
    "_isFastLaunch": false,
    "category": "Memory Optimized",
    "gpuNum": 0,
    "hideHardwareSpecs": false,
    "memoryGiB": 512,
    "name": "ml.r5.16xlarge",
    "vcpuNum": 64
   },
   {
    "_defaultOrder": 46,
    "_isFastLaunch": false,
    "category": "Memory Optimized",
    "gpuNum": 0,
    "hideHardwareSpecs": false,
    "memoryGiB": 768,
    "name": "ml.r5.24xlarge",
    "vcpuNum": 96
   },
   {
    "_defaultOrder": 47,
    "_isFastLaunch": false,
    "category": "Accelerated computing",
    "gpuNum": 1,
    "hideHardwareSpecs": false,
    "memoryGiB": 16,
    "name": "ml.g5.xlarge",
    "vcpuNum": 4
   },
   {
    "_defaultOrder": 48,
    "_isFastLaunch": false,
    "category": "Accelerated computing",
    "gpuNum": 1,
    "hideHardwareSpecs": false,
    "memoryGiB": 32,
    "name": "ml.g5.2xlarge",
    "vcpuNum": 8
   },
   {
    "_defaultOrder": 49,
    "_isFastLaunch": false,
    "category": "Accelerated computing",
    "gpuNum": 1,
    "hideHardwareSpecs": false,
    "memoryGiB": 64,
    "name": "ml.g5.4xlarge",
    "vcpuNum": 16
   },
   {
    "_defaultOrder": 50,
    "_isFastLaunch": false,
    "category": "Accelerated computing",
    "gpuNum": 1,
    "hideHardwareSpecs": false,
    "memoryGiB": 128,
    "name": "ml.g5.8xlarge",
    "vcpuNum": 32
   },
   {
    "_defaultOrder": 51,
    "_isFastLaunch": false,
    "category": "Accelerated computing",
    "gpuNum": 1,
    "hideHardwareSpecs": false,
    "memoryGiB": 256,
    "name": "ml.g5.16xlarge",
    "vcpuNum": 64
   },
   {
    "_defaultOrder": 52,
    "_isFastLaunch": false,
    "category": "Accelerated computing",
    "gpuNum": 4,
    "hideHardwareSpecs": false,
    "memoryGiB": 192,
    "name": "ml.g5.12xlarge",
    "vcpuNum": 48
   },
   {
    "_defaultOrder": 53,
    "_isFastLaunch": false,
    "category": "Accelerated computing",
    "gpuNum": 4,
    "hideHardwareSpecs": false,
    "memoryGiB": 384,
    "name": "ml.g5.24xlarge",
    "vcpuNum": 96
   },
   {
    "_defaultOrder": 54,
    "_isFastLaunch": false,
    "category": "Accelerated computing",
    "gpuNum": 8,
    "hideHardwareSpecs": false,
    "memoryGiB": 768,
    "name": "ml.g5.48xlarge",
    "vcpuNum": 192
   },
   {
    "_defaultOrder": 55,
    "_isFastLaunch": false,
    "category": "Accelerated computing",
    "gpuNum": 8,
    "hideHardwareSpecs": false,
    "memoryGiB": 1152,
    "name": "ml.p4d.24xlarge",
    "vcpuNum": 96
   },
   {
    "_defaultOrder": 56,
    "_isFastLaunch": false,
    "category": "Accelerated computing",
    "gpuNum": 8,
    "hideHardwareSpecs": false,
    "memoryGiB": 1152,
    "name": "ml.p4de.24xlarge",
    "vcpuNum": 96
   },
   {
    "_defaultOrder": 57,
    "_isFastLaunch": false,
    "category": "Accelerated computing",
    "gpuNum": 0,
    "hideHardwareSpecs": false,
    "memoryGiB": 32,
    "name": "ml.trn1.2xlarge",
    "vcpuNum": 8
   },
   {
    "_defaultOrder": 58,
    "_isFastLaunch": false,
    "category": "Accelerated computing",
    "gpuNum": 0,
    "hideHardwareSpecs": false,
    "memoryGiB": 512,
    "name": "ml.trn1.32xlarge",
    "vcpuNum": 128
   },
   {
    "_defaultOrder": 59,
    "_isFastLaunch": false,
    "category": "Accelerated computing",
    "gpuNum": 0,
    "hideHardwareSpecs": false,
    "memoryGiB": 512,
    "name": "ml.trn1n.32xlarge",
    "vcpuNum": 128
   }
  ],
  "instance_type": "ml.g4dn.xlarge",
  "kernelspec": {
   "display_name": "Python 3 (PyTorch 1.13 Python 3.9 GPU Optimized)",
   "language": "python",
   "name": "python3__SAGEMAKER_INTERNAL__arn:aws:sagemaker:us-west-2:236514542706:image/pytorch-1.13-gpu-py39"
  },
  "language_info": {
   "codemirror_mode": {
    "name": "ipython",
    "version": 3
   },
   "file_extension": ".py",
   "mimetype": "text/x-python",
   "name": "python",
   "nbconvert_exporter": "python",
   "pygments_lexer": "ipython3",
   "version": "3.9.16"
  }
 },
 "nbformat": 4,
 "nbformat_minor": 5
}
